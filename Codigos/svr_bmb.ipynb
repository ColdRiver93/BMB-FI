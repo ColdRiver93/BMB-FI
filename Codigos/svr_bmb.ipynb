{
 "cells": [
  {
   "cell_type": "code",
   "execution_count": 1,
   "metadata": {},
   "outputs": [],
   "source": [
    "import pandas as pd\n",
    "import numpy as np\n",
    "from sklearn.svm import SVR\n",
    "from sklearn.preprocessing import MinMaxScaler\n",
    "import itertools"
   ]
  },
  {
   "cell_type": "code",
   "execution_count": 2,
   "metadata": {},
   "outputs": [],
   "source": [
    "import warnings\n",
    "warnings.filterwarnings(action='once')"
   ]
  },
  {
   "cell_type": "code",
   "execution_count": 3,
   "metadata": {},
   "outputs": [],
   "source": [
    "bmb_serie = pd.read_csv(r\"..\\Datos\\canasta_basica_serie.csv\",index_col=0)"
   ]
  },
  {
   "cell_type": "code",
   "execution_count": 4,
   "metadata": {},
   "outputs": [
    {
     "data": {
      "text/plain": [
       "<AxesSubplot:>"
      ]
     },
     "execution_count": 4,
     "metadata": {},
     "output_type": "execute_result"
    },
    {
     "data": {
      "image/png": "[encoded data removed]",
      "text/plain": [
       "<Figure size 432x288 with 1 Axes>"
      ]
     },
     "metadata": {
      "needs_background": "light"
     },
     "output_type": "display_data"
    }
   ],
   "source": [
    "bmb_serie.columns = ['bmb']\n",
    "bmb_serie.plot()"
   ]
  },
  {
   "cell_type": "code",
   "execution_count": 5,
   "metadata": {},
   "outputs": [],
   "source": [
    "#Errors\n",
    "def forecast_accuracy(forecast, actual):\n",
    "    mape = np.mean(np.abs(list(np.array(forecast) - np.array(actual)))/np.abs(actual))  # MAPE\n",
    "    me = np.mean(list(np.array(forecast) - np.array(actual)))             # ME\n",
    "    mae = np.mean(np.abs(list(np.array(forecast) - np.array(actual))))    # MAE\n",
    "    mpe = np.mean((list(np.array(forecast) - np.array(actual)))/np.array(actual))   # MPE\n",
    "    rmse = np.mean(list(np.array(list(np.array(forecast) - np.array(actual)))**2))**.5  # RMSE\n",
    "    corr = np.corrcoef(forecast, actual)[0,1]   # corr\n",
    "    return({'mape':mape, 'me':me, 'mae': mae, \n",
    "            'mpe': mpe, 'rmse':rmse,'corr':corr})"
   ]
  },
  {
   "cell_type": "code",
   "execution_count": 6,
   "metadata": {},
   "outputs": [],
   "source": [
    "def grid_search(degree, C_l,coef, eps, gamma, error):\n",
    "    '''\n",
    "    Grid search process to find optimal solution within a list of given parameters\n",
    "    '''\n",
    "    best_e=float('inf')\n",
    "    test_y = bmb_serie[-tt-tv:-tv].bmb.tolist()\n",
    "\n",
    "    for d in degree:\n",
    "        print(d)\n",
    "        for c in C_l:\n",
    "            for co in coef:\n",
    "                for ep in eps:\n",
    "                    for g in gamma:\n",
    "                        try:\n",
    "                            model = SVR(kernel='poly', degree=d, C=c, cache_size=200, coef0=co, epsilon=ep, gamma=g,\n",
    "            max_iter=100000000, shrinking=True, tol=0.001, verbose=False)\n",
    "                            model.fit(x_train, y_train[:,0])\n",
    "\n",
    "                            y_test_pred = model.predict(x_test).reshape(-1,1)\n",
    "\n",
    "                            # Scaling the predictions\n",
    "                            y_test_pred = scaler.inverse_transform(y_test_pred)\n",
    "\n",
    "                            errors=forecast_accuracy([i[0] for i in y_test_pred], test_y)\n",
    "                            e = errors[error]\n",
    "                            if e<best_e:\n",
    "                                opt_params = [d,c,co,ep,g]\n",
    "                                best_e=e \n",
    "                                print(opt_params,best_e)\n",
    "                        except:\n",
    "                            print(\"Error\")\n",
    "                    \n",
    "    print('BEST: ',opt_params, best_e)\n",
    "    return opt_params"
   ]
  },
  {
   "cell_type": "code",
   "execution_count": 7,
   "metadata": {},
   "outputs": [
    {
     "name": "stdout",
     "output_type": "stream",
     "text": [
      "(240, 13)\n",
      "(12, 13)\n",
      "(3, 13)\n"
     ]
    }
   ],
   "source": [
    "t =12\n",
    "tt = 12\n",
    "tv = 3\n",
    "\n",
    "train= bmb_serie[:-tt-tv] #Reduced\n",
    "test = bmb_serie[-tt-tv-t:-tv]\n",
    "validation = bmb_serie[-tv-t:]\n",
    "\n",
    "\n",
    "scaler = MinMaxScaler()\n",
    "\n",
    "test_data = scaler.fit_transform(test)\n",
    "train_data = scaler.transform(train)\n",
    "val_data = scaler.transform(validation)\n",
    "\n",
    "# Converting to numpy arrays\n",
    "timesteps =t+1\n",
    "\n",
    "train_data_timesteps=np.array([[j for j in train_data[i:i+timesteps]] for i in range(0,len(train_data)-timesteps+1)])[:,:,0]\n",
    "print(train_data_timesteps.shape)\n",
    "\n",
    "test_data_timesteps=np.array([[j for j in test_data[i:i+timesteps]] for i in range(0,len(test_data)-timesteps+1)])[:,:,0]\n",
    "print(test_data_timesteps.shape)\n",
    "\n",
    "val_data_timesteps=np.array([[j for j in val_data[i:i+timesteps]] for i in range(0,len(val_data)-timesteps+1)])[:,:,0]\n",
    "print(val_data_timesteps.shape)"
   ]
  },
  {
   "cell_type": "code",
   "execution_count": 8,
   "metadata": {},
   "outputs": [
    {
     "name": "stdout",
     "output_type": "stream",
     "text": [
      "(240, 12) (240, 1)\n",
      "(12, 12) (12, 1)\n",
      "(3, 12) (3, 1)\n"
     ]
    }
   ],
   "source": [
    "x_train, y_train = train_data_timesteps[:,:timesteps-1],train_data_timesteps[:,[timesteps-1]]\n",
    "x_test, y_test = test_data_timesteps[:,:timesteps-1],test_data_timesteps[:,[timesteps-1]]\n",
    "x_val, y_val = val_data_timesteps[:,:timesteps-1],val_data_timesteps[:,[timesteps-1]]\n",
    "\n",
    "print(x_train.shape, y_train.shape)\n",
    "print(x_test.shape, y_test.shape)\n",
    "print(x_val.shape, y_val.shape)"
   ]
  },
  {
   "cell_type": "markdown",
   "metadata": {
    "scrolled": false
   },
   "source": [
    "d1 = [2]\n",
    "c1 = [0.01,0.1,0.5, 1,2,3]\n",
    "coef1 = [0.001,0.01,0.1,1]\n",
    "eps1 = [0.0001,0.001,0.01,0.1,1,2]\n",
    "gamma1 = ['scale',1,2,10]\n",
    "\n",
    "opt_params = grid_search(d1, c1,coef1, eps1, gamma1, 'mae')"
   ]
  },
  {
   "cell_type": "code",
   "execution_count": 9,
   "metadata": {},
   "outputs": [
    {
     "name": "stderr",
     "output_type": "stream",
     "text": [
      "C:\\Users\\MSI\\anaconda3\\envs\\pyscience\\lib\\site-packages\\sklearn\\svm\\_base.py:284: ConvergenceWarning: Solver terminated early (max_iter=100000000).  Consider pre-processing your data with StandardScaler or MinMaxScaler.\n",
      "  warnings.warn(\n"
     ]
    }
   ],
   "source": [
    "model = SVR(kernel='poly', degree=2, C=3, coef0=0.1, epsilon=0.01, gamma=1,\n",
    "                max_iter=100000000, cache_size=200, shrinking=True, tol=0.001, verbose=False)\n",
    "\n",
    "model.fit(x_train, y_train[:,0])\n",
    "\n",
    "y_train_pred = model.predict(x_train).reshape(-1,1)\n",
    "y_test_pred = model.predict(x_test).reshape(-1,1)\n",
    "y_val_pred = model.predict(x_val).reshape(-1,1)\n",
    "\n",
    "# Scaling the predictions\n",
    "y_train_pred = scaler.inverse_transform(y_train_pred)\n",
    "y_test_pred = scaler.inverse_transform(y_test_pred)\n",
    "y_val_pred = scaler.inverse_transform(y_val_pred)"
   ]
  },
  {
   "cell_type": "code",
   "execution_count": 10,
   "metadata": {},
   "outputs": [
    {
     "name": "stdout",
     "output_type": "stream",
     "text": [
      "{'mape': 0.006886164102362271, 'me': 0.3380341891543902, 'mae': 3.4528996194469075, 'mpe': -0.0009008131320635281, 'rmse': 4.430331589820897, 'corr': 0.9996919585645561}\n",
      "{'mape': 0.003666077315251072, 'me': -1.9309225227087268, 'mae': 2.7331071961768885, 'mpe': -0.0025779075818633287, 'rmse': 4.63575607782988, 'corr': 0.9596469135797346}\n",
      "{'mape': 0.0014666327654516958, 'me': 0.7067088108005161, 'mae': 1.1234721828063055, 'mpe': 0.0009229952762056688, 'rmse': 1.1776285099903798, 'corr': 0.6264860302884081}\n"
     ]
    }
   ],
   "source": [
    "x = forecast_accuracy([i[0] for i in y_train_pred], bmb_serie[t:-tt-tv].bmb.tolist())\n",
    "print(x)\n",
    "xt=forecast_accuracy([i[0] for i in y_test_pred], bmb_serie[-tt-tv:-tv].bmb.tolist())\n",
    "print(xt)\n",
    "xv=forecast_accuracy([i[0] for i in y_val_pred], bmb_serie[-tv:].bmb.tolist())\n",
    "print(xv)"
   ]
  },
  {
   "cell_type": "code",
   "execution_count": 11,
   "metadata": {},
   "outputs": [
    {
     "name": "stdout",
     "output_type": "stream",
     "text": [
      "{'mape': 0.012400730814578353, 'me': -9.181229422405957, 'mae': 9.349642358755622, 'mpe': -0.012168538483397454, 'rmse': 11.379503018943929, 'corr': 0.9555959403268809}\n",
      "{'mape': 0.0029174549480805423, 'me': 2.2360177967834716, 'mae': 2.2360177967834716, 'mpe': 0.0029174549480805423, 'rmse': 2.317604553140259, 'corr': 0.9998572709277966}\n"
     ]
    }
   ],
   "source": [
    "xtr = np.array([x_test[0]])\n",
    "y_test_pred = []\n",
    "for _ in range(tt):\n",
    "    pred = model.predict(xtr).reshape(-1,1)\n",
    "    xtr = np.array([np.concatenate((xtr[0],pred[0]))[1:]])\n",
    "    y_test_pred.append(scaler.inverse_transform(pred)[0][0])\n",
    "\n",
    "xvr = np.array([x_val[0]])\n",
    "y_val_pred = []\n",
    "for _ in range(tv):\n",
    "    pred = model.predict(xvr).reshape(-1,1)\n",
    "    xvr = np.array([np.concatenate((xvr[0],pred[0]))[1:]])\n",
    "    y_val_pred.append(scaler.inverse_transform(pred)[0][0])\n",
    "xt=forecast_accuracy(y_test_pred, bmb_serie[-tt-tv:-tv].bmb.tolist())\n",
    "print(xt)\n",
    "\n",
    "xv=forecast_accuracy(y_val_pred, bmb_serie[-tv:].bmb.tolist())\n",
    "print(xv)"
   ]
  },
  {
   "cell_type": "code",
   "execution_count": 13,
   "metadata": {},
   "outputs": [
    {
     "data": {
      "text/plain": [
       "[765.9948549419913,\n",
       " 764.7143435144872,\n",
       " 768.7010916291417,\n",
       " 769.9242850141677,\n",
       " 771.6429432220054,\n",
       " 773.3374022624221,\n",
       " 774.3251863140259,\n",
       " 776.0205002896394,\n",
       " 777.3059046496725]"
      ]
     },
     "execution_count": 13,
     "metadata": {},
     "output_type": "execute_result"
    }
   ],
   "source": [
    "x_final = np.array([x_val[-1]])\n",
    "y_final_pred = []\n",
    "for i in range(9):\n",
    "    pred = model.predict(x_final).reshape(-1,1)\n",
    "    x_final = np.array([np.concatenate((x_final[0],pred[0]))[1:]])\n",
    "    y_final_pred.append(scaler.inverse_transform(pred)[0][0])\n",
    "y_final_pred"
   ]
  },
  {
   "cell_type": "code",
   "execution_count": 14,
   "metadata": {},
   "outputs": [],
   "source": [
    "np.savetxt(r'..\\Datos\\svr_prediction.csv',np.array(y_final_pred), fmt = '%f', delimiter=\",\")   "
   ]
  },
  {
   "cell_type": "code",
   "execution_count": null,
   "metadata": {},
   "outputs": [],
   "source": []
  }
 ],
 "metadata": {
  "kernelspec": {
   "display_name": "Python 3 (ipykernel)",
   "language": "python",
   "name": "python3"
  },
  "language_info": {
   "codemirror_mode": {
    "name": "ipython",
    "version": 3
   },
   "file_extension": ".py",
   "mimetype": "text/x-python",
   "name": "python",
   "nbconvert_exporter": "python",
   "pygments_lexer": "ipython3",
   "version": "3.9.7"
  }
 },
 "nbformat": 4,
 "nbformat_minor": 4
}
