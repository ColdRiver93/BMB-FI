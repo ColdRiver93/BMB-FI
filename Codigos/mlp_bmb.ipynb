{
 "cells": [
  {
   "cell_type": "code",
   "execution_count": 1,
   "metadata": {},
   "outputs": [],
   "source": [
    "import pandas as pd\n",
    "import numpy as np\n",
    "\n",
    "from sklearn.neural_network import MLPRegressor\n",
    "\n",
    "from sklearn.preprocessing import MinMaxScaler\n",
    "import itertools"
   ]
  },
  {
   "cell_type": "code",
   "execution_count": 2,
   "metadata": {},
   "outputs": [],
   "source": [
    "import warnings\n",
    "warnings.filterwarnings(action='once')"
   ]
  },
  {
   "cell_type": "code",
   "execution_count": 3,
   "metadata": {},
   "outputs": [],
   "source": [
    "#Load data\n",
    "bmb_serie = pd.read_csv(r\"..\\Datos\\canasta_basica_serie.csv\",index_col=0)"
   ]
  },
  {
   "cell_type": "code",
   "execution_count": 4,
   "metadata": {},
   "outputs": [
    {
     "data": {
      "text/plain": [
       "<AxesSubplot:>"
      ]
     },
     "execution_count": 4,
     "metadata": {},
     "output_type": "execute_result"
    },
    {
     "data": {
      "image/png": "[encoded data removed]",
      "text/plain": [
       "<Figure size 432x288 with 1 Axes>"
      ]
     },
     "metadata": {
      "needs_background": "light"
     },
     "output_type": "display_data"
    }
   ],
   "source": [
    "bmb_serie.columns = ['bmb']\n",
    "bmb_serie.plot()"
   ]
  },
  {
   "cell_type": "code",
   "execution_count": 5,
   "metadata": {},
   "outputs": [],
   "source": [
    "#Errors\n",
    "def forecast_accuracy(forecast, actual):\n",
    "    mape = np.mean(np.abs(list(np.array(forecast) - np.array(actual)))/np.abs(actual))  # MAPE\n",
    "    me = np.mean(list(np.array(forecast) - np.array(actual)))             # ME\n",
    "    mae = np.mean(np.abs(list(np.array(forecast) - np.array(actual))))    # MAE\n",
    "    mpe = np.mean((list(np.array(forecast) - np.array(actual)))/np.array(actual))   # MPE\n",
    "    rmse = np.mean(list(np.array(list(np.array(forecast) - np.array(actual)))**2))**.5  # RMSE\n",
    "    corr = np.corrcoef(forecast, actual)[0,1]   # corr\n",
    "    return({'mape':mape, 'me':me, 'mae': mae, \n",
    "            'mpe': mpe, 'rmse':rmse,'corr':corr})"
   ]
  },
  {
   "cell_type": "code",
   "execution_count": 6,
   "metadata": {},
   "outputs": [],
   "source": [
    "def grid_search(hidden, act,solv, alfa, error):\n",
    "    '''\n",
    "    Grid search process to find optimal solution within a list of given parameters\n",
    "    '''\n",
    "    best_e=float('inf')\n",
    "    test_y = bmb_serie[-tt-tv:-tv].bmb.tolist()\n",
    "\n",
    "    for h in hidden:\n",
    "        print(h)\n",
    "        for ac in act:\n",
    "            for s in solv:\n",
    "                for a in alfa:\n",
    "                        try:\n",
    "                            model = MLPRegressor(hidden_layer_sizes=h,activation=ac,solver=s,\n",
    "                             alpha=a,\n",
    "                             learning_rate = 'adaptive', max_iter=1000, random_state=1993)\n",
    "                            model.fit(x_train, y_train[:,0])\n",
    "\n",
    "                            y_test_pred = model.predict(x_test).reshape(-1,1)\n",
    "\n",
    "                            # Scaling the predictions\n",
    "                            y_test_pred = scaler.inverse_transform(y_test_pred)\n",
    "\n",
    "                            errors=forecast_accuracy([i[0] for i in y_test_pred], test_y)\n",
    "                            e = errors[error]\n",
    "                            if e<best_e:\n",
    "                                opt_params = [h,ac,s,a]\n",
    "                                best_e=e \n",
    "                                print(opt_params,best_e)\n",
    "                        except:\n",
    "                            print(\"Error\")\n",
    "                    \n",
    "    print('BEST: ',opt_params, best_e)\n",
    "    return opt_params"
   ]
  },
  {
   "cell_type": "code",
   "execution_count": 7,
   "metadata": {},
   "outputs": [
    {
     "name": "stdout",
     "output_type": "stream",
     "text": [
      "(240, 13)\n",
      "(12, 13)\n",
      "(3, 13)\n"
     ]
    }
   ],
   "source": [
    "t =12\n",
    "tt = 12\n",
    "tv = 3\n",
    "\n",
    "train= bmb_serie[:-tt-tv] #Reduced\n",
    "test = bmb_serie[-tt-tv-t:-tv]\n",
    "validation = bmb_serie[-tv-t:]\n",
    "\n",
    "\n",
    "scaler = MinMaxScaler()\n",
    "#train_data = scaler.fit_transform(train)\n",
    "#test_data = scaler.transform(test)\n",
    "\n",
    "test_data = scaler.fit_transform(test)\n",
    "train_data = scaler.transform(train)\n",
    "val_data = scaler.transform(validation)\n",
    "\n",
    "# Converting to numpy arrays\n",
    "timesteps =t+1\n",
    "\n",
    "train_data_timesteps=np.array([[j for j in train_data[i:i+timesteps]] for i in range(0,len(train_data)-timesteps+1)])[:,:,0]\n",
    "print(train_data_timesteps.shape)\n",
    "\n",
    "test_data_timesteps=np.array([[j for j in test_data[i:i+timesteps]] for i in range(0,len(test_data)-timesteps+1)])[:,:,0]\n",
    "print(test_data_timesteps.shape)\n",
    "\n",
    "val_data_timesteps=np.array([[j for j in val_data[i:i+timesteps]] for i in range(0,len(val_data)-timesteps+1)])[:,:,0]\n",
    "print(val_data_timesteps.shape)"
   ]
  },
  {
   "cell_type": "code",
   "execution_count": 8,
   "metadata": {},
   "outputs": [
    {
     "name": "stdout",
     "output_type": "stream",
     "text": [
      "(240, 12) (240, 1)\n",
      "(12, 12) (12, 1)\n",
      "(3, 12) (3, 1)\n"
     ]
    }
   ],
   "source": [
    "x_train, y_train = train_data_timesteps[:,:timesteps-1],train_data_timesteps[:,[timesteps-1]]\n",
    "x_test, y_test = test_data_timesteps[:,:timesteps-1],test_data_timesteps[:,[timesteps-1]]\n",
    "x_val, y_val = val_data_timesteps[:,:timesteps-1],val_data_timesteps[:,[timesteps-1]]\n",
    "\n",
    "print(x_train.shape, y_train.shape)\n",
    "print(x_test.shape, y_test.shape)\n",
    "print(x_val.shape, y_val.shape)"
   ]
  },
  {
   "cell_type": "markdown",
   "metadata": {
    "scrolled": false
   },
   "source": [
    "hl1 = [100,120,200,240,300,360]\n",
    "act1 = ['relu','tanh','identity','logistic']\n",
    "sol1 = ['lbfgs', 'sgd','adam']\n",
    "a1 = [0.00001,0.0001,0.001,0.01,0.1,1,2]\n",
    "\n",
    "\n",
    "opt_params = grid_search(hl1, act1,sol1, a1, 'mae')"
   ]
  },
  {
   "cell_type": "markdown",
   "metadata": {},
   "source": [
    "print(opt_params)\n",
    "\n",
    "model = MLPRegressor(hidden_layer_sizes=opt_params[0],activation=opt_params[1],solver=opt_params[2],\n",
    "                     alpha=opt_params[3],\n",
    "                     learning_rate = 'adaptive', max_iter=1000, random_state=1993)\n",
    "\n",
    "model.fit(x_train, y_train[:,0])\n",
    "\n",
    "y_train_pred = model.predict(x_train).reshape(-1,1)\n",
    "y_test_pred = model.predict(x_test).reshape(-1,1)\n",
    "y_val_pred = model.predict(x_val).reshape(-1,1)\n",
    "\n",
    "# Scaling the predictions\n",
    "y_train_pred = scaler.inverse_transform(y_train_pred)\n",
    "y_test_pred = scaler.inverse_transform(y_test_pred)\n",
    "y_val_pred = scaler.inverse_transform(y_val_pred)"
   ]
  },
  {
   "cell_type": "markdown",
   "metadata": {},
   "source": [
    "x = forecast_accuracy([i[0] for i in y_train_pred], bmb_serie[t:-tt-tv].bmb.tolist())\n",
    "print(x)\n",
    "xt=forecast_accuracy([i[0] for i in y_test_pred], bmb_serie[-tt-tv:-tv].bmb.tolist())\n",
    "print(xt)\n",
    "xv=forecast_accuracy([i[0] for i in y_val_pred], bmb_serie[-tv:].bmb.tolist())\n",
    "print(xv)"
   ]
  },
  {
   "cell_type": "code",
   "execution_count": 9,
   "metadata": {
    "scrolled": true
   },
   "outputs": [
    {
     "name": "stderr",
     "output_type": "stream",
     "text": [
      "C:\\Users\\MSI\\anaconda3\\envs\\pyscience\\lib\\site-packages\\sklearn\\neural_network\\_multilayer_perceptron.py:1599: DataConversionWarning: A column-vector y was passed when a 1d array was expected. Please change the shape of y to (n_samples, ), for example using ravel().\n",
      "  y = column_or_1d(y, warn=True)\n"
     ]
    },
    {
     "name": "stdout",
     "output_type": "stream",
     "text": [
      "{'mape': 0.0032277596766489797, 'me': -0.0016871141442614146, 'mae': 1.7608984890323989, 'mpe': 3.414375636792652e-05, 'rmse': 2.6453950569087494, 'corr': 0.9997772850742305}\n",
      "{'mape': 0.004210967742415306, 'me': -2.70092483185843, 'mae': 3.1423505056416823, 'mpe': -0.0036197756967975554, 'rmse': 5.0446128039844735, 'corr': 0.9597150581929715}\n",
      "{'mape': 0.0029530311541566246, 'me': 0.11753370645256685, 'mae': 2.2620631039311547, 'mpe': 0.00015097971222270516, 'rmse': 2.520922979421327, 'corr': 0.75251253149504}\n"
     ]
    }
   ],
   "source": [
    "model = MLPRegressor(hidden_layer_sizes=200,activation='identity',solver='lbfgs',\n",
    "                     alpha=0.01,\n",
    "                     learning_rate = 'adaptive', max_iter=1000, random_state=1993)\n",
    "\n",
    "model.fit(x_train, y_train)\n",
    "\n",
    "y_train_pred = model.predict(x_train).reshape(-1,1)\n",
    "y_train_pred = scaler.inverse_transform(y_train_pred)\n",
    "\n",
    "y_test_pred = model.predict(x_test).reshape(-1,1)\n",
    "y_test_pred = scaler.inverse_transform(y_test_pred)\n",
    "\n",
    "y_val_pred = model.predict(x_val).reshape(-1,1)\n",
    "y_val_pred = scaler.inverse_transform(y_val_pred)\n",
    "\n",
    "x = forecast_accuracy([i[0] for i in y_train_pred], bmb_serie[12:-tt-tv].bmb.tolist())\n",
    "print(x)\n",
    "xt=forecast_accuracy([i[0] for i in y_test_pred], bmb_serie[-tt-tv:-tv].bmb.tolist())\n",
    "print(xt)\n",
    "xv=forecast_accuracy([i[0] for i in y_val_pred], bmb_serie[-tv:].bmb.tolist())\n",
    "print(xv)"
   ]
  },
  {
   "cell_type": "code",
   "execution_count": 10,
   "metadata": {},
   "outputs": [
    {
     "name": "stdout",
     "output_type": "stream",
     "text": [
      "{'mape': 0.02669874204914204, 'me': -20.121878615018932, 'mae': 20.121878615018932, 'mpe': -0.02669874204914204, 'rmse': 23.684304209547072, 'corr': 0.9012580615230444}\n",
      "{'mape': 0.002544197875217471, 'me': -1.9491979725490864, 'mae': 1.9491979725490864, 'mpe': -0.002544197875217471, 'rmse': 2.417883504202029, 'corr': 0.593439443207051}\n"
     ]
    }
   ],
   "source": [
    "xtr = np.array([x_test[0]])\n",
    "y_test_pred = []\n",
    "for _ in range(tt):\n",
    "    pred = model.predict(xtr).reshape(-1,1)\n",
    "    xtr = np.array([np.concatenate((xtr[0],pred[0]))[1:]])\n",
    "    y_test_pred.append(scaler.inverse_transform(pred)[0][0])\n",
    "\n",
    "xvr = np.array([x_val[0]])\n",
    "y_val_pred = []\n",
    "for _ in range(tv):\n",
    "    pred = model.predict(xvr).reshape(-1,1)\n",
    "    xvr = np.array([np.concatenate((xvr[0],pred[0]))[1:]])\n",
    "    y_val_pred.append(scaler.inverse_transform(pred)[0][0])\n",
    "xt=forecast_accuracy(y_test_pred, bmb_serie[-tt-tv:-tv].bmb.tolist())\n",
    "print(xt)\n",
    "\n",
    "xv=forecast_accuracy(y_val_pred, bmb_serie[-tv:].bmb.tolist())\n",
    "print(xv)"
   ]
  },
  {
   "cell_type": "code",
   "execution_count": 11,
   "metadata": {},
   "outputs": [
    {
     "data": {
      "text/plain": [
       "[770.1893952155756,\n",
       " 772.6055550926369,\n",
       " 774.2155609593841,\n",
       " 774.7246675733185,\n",
       " 775.0796315007526,\n",
       " 775.8094219221085,\n",
       " 776.5044690345464,\n",
       " 777.0294234842412,\n",
       " 777.637284417655]"
      ]
     },
     "execution_count": 11,
     "metadata": {},
     "output_type": "execute_result"
    }
   ],
   "source": [
    "x_final = np.array([x_val[-1]])\n",
    "y_final_pred = []\n",
    "for i in range(9):\n",
    "    pred = model.predict(x_final).reshape(-1,1)\n",
    "    x_final = np.array([np.concatenate((x_final[0],pred[0]))[1:]])\n",
    "    y_final_pred.append(scaler.inverse_transform(pred)[0][0])\n",
    "y_final_pred"
   ]
  },
  {
   "cell_type": "code",
   "execution_count": 12,
   "metadata": {},
   "outputs": [],
   "source": [
    "np.savetxt(r'..\\Datos\\mlp_prediction.csv',np.array(y_final_pred), fmt = '%f', delimiter=\",\")"
   ]
  },
  {
   "cell_type": "code",
   "execution_count": null,
   "metadata": {},
   "outputs": [],
   "source": []
  }
 ],
 "metadata": {
  "kernelspec": {
   "display_name": "Python 3 (ipykernel)",
   "language": "python",
   "name": "python3"
  },
  "language_info": {
   "codemirror_mode": {
    "name": "ipython",
    "version": 3
   },
   "file_extension": ".py",
   "mimetype": "text/x-python",
   "name": "python",
   "nbconvert_exporter": "python",
   "pygments_lexer": "ipython3",
   "version": "3.9.7"
  }
 },
 "nbformat": 4,
 "nbformat_minor": 4
}
